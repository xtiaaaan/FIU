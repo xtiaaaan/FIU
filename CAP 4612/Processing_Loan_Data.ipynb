{
 "cells": [
  {
   "cell_type": "markdown",
   "id": "a5a6d588",
   "metadata": {},
   "source": [
    "# Processing Loan Data"
   ]
  },
  {
   "cell_type": "markdown",
   "id": "3ae0609a",
   "metadata": {},
   "source": [
    "### Loading data"
   ]
  },
  {
   "cell_type": "code",
   "execution_count": 1,
   "id": "54501613",
   "metadata": {},
   "outputs": [],
   "source": [
    "\n",
    "import pandas as pd\n",
    "import numpy as np\n",
    "import matplotlib.pyplot as plt"
   ]
  },
  {
   "cell_type": "code",
   "execution_count": 2,
   "id": "0fa81bfc",
   "metadata": {},
   "outputs": [
    {
     "data": {
      "text/html": [
       "<div>\n",
       "<style scoped>\n",
       "    .dataframe tbody tr th:only-of-type {\n",
       "        vertical-align: middle;\n",
       "    }\n",
       "\n",
       "    .dataframe tbody tr th {\n",
       "        vertical-align: top;\n",
       "    }\n",
       "\n",
       "    .dataframe thead th {\n",
       "        text-align: right;\n",
       "    }\n",
       "</style>\n",
       "<table border=\"1\" class=\"dataframe\">\n",
       "  <thead>\n",
       "    <tr style=\"text-align: right;\">\n",
       "      <th></th>\n",
       "      <th>ID</th>\n",
       "      <th>year</th>\n",
       "      <th>loan_limit</th>\n",
       "      <th>Gender</th>\n",
       "      <th>approv_in_adv</th>\n",
       "      <th>loan_type</th>\n",
       "      <th>loan_purpose</th>\n",
       "      <th>Credit_Worthiness</th>\n",
       "      <th>open_credit</th>\n",
       "      <th>business_or_commercial</th>\n",
       "      <th>...</th>\n",
       "      <th>credit_type</th>\n",
       "      <th>Credit_Score</th>\n",
       "      <th>co-applicant_credit_type</th>\n",
       "      <th>age</th>\n",
       "      <th>submission_of_application</th>\n",
       "      <th>LTV</th>\n",
       "      <th>Region</th>\n",
       "      <th>Security_Type</th>\n",
       "      <th>Status</th>\n",
       "      <th>dtir1</th>\n",
       "    </tr>\n",
       "  </thead>\n",
       "  <tbody>\n",
       "    <tr>\n",
       "      <th>0</th>\n",
       "      <td>24890</td>\n",
       "      <td>2019</td>\n",
       "      <td>cf</td>\n",
       "      <td>Sex Not Available</td>\n",
       "      <td>nopre</td>\n",
       "      <td>type1</td>\n",
       "      <td>p1</td>\n",
       "      <td>l1</td>\n",
       "      <td>nopc</td>\n",
       "      <td>nob/c</td>\n",
       "      <td>...</td>\n",
       "      <td>EXP</td>\n",
       "      <td>758</td>\n",
       "      <td>CIB</td>\n",
       "      <td>25-34</td>\n",
       "      <td>to_inst</td>\n",
       "      <td>98.728814</td>\n",
       "      <td>south</td>\n",
       "      <td>direct</td>\n",
       "      <td>1</td>\n",
       "      <td>45.0</td>\n",
       "    </tr>\n",
       "    <tr>\n",
       "      <th>1</th>\n",
       "      <td>24891</td>\n",
       "      <td>2019</td>\n",
       "      <td>cf</td>\n",
       "      <td>Male</td>\n",
       "      <td>nopre</td>\n",
       "      <td>type2</td>\n",
       "      <td>p1</td>\n",
       "      <td>l1</td>\n",
       "      <td>nopc</td>\n",
       "      <td>b/c</td>\n",
       "      <td>...</td>\n",
       "      <td>EQUI</td>\n",
       "      <td>552</td>\n",
       "      <td>EXP</td>\n",
       "      <td>55-64</td>\n",
       "      <td>to_inst</td>\n",
       "      <td>NaN</td>\n",
       "      <td>North</td>\n",
       "      <td>direct</td>\n",
       "      <td>1</td>\n",
       "      <td>NaN</td>\n",
       "    </tr>\n",
       "    <tr>\n",
       "      <th>2</th>\n",
       "      <td>24892</td>\n",
       "      <td>2019</td>\n",
       "      <td>cf</td>\n",
       "      <td>Male</td>\n",
       "      <td>pre</td>\n",
       "      <td>type1</td>\n",
       "      <td>p1</td>\n",
       "      <td>l1</td>\n",
       "      <td>nopc</td>\n",
       "      <td>nob/c</td>\n",
       "      <td>...</td>\n",
       "      <td>EXP</td>\n",
       "      <td>834</td>\n",
       "      <td>CIB</td>\n",
       "      <td>35-44</td>\n",
       "      <td>to_inst</td>\n",
       "      <td>80.019685</td>\n",
       "      <td>south</td>\n",
       "      <td>direct</td>\n",
       "      <td>0</td>\n",
       "      <td>46.0</td>\n",
       "    </tr>\n",
       "    <tr>\n",
       "      <th>3</th>\n",
       "      <td>24893</td>\n",
       "      <td>2019</td>\n",
       "      <td>cf</td>\n",
       "      <td>Male</td>\n",
       "      <td>nopre</td>\n",
       "      <td>type1</td>\n",
       "      <td>p4</td>\n",
       "      <td>l1</td>\n",
       "      <td>nopc</td>\n",
       "      <td>nob/c</td>\n",
       "      <td>...</td>\n",
       "      <td>EXP</td>\n",
       "      <td>587</td>\n",
       "      <td>CIB</td>\n",
       "      <td>45-54</td>\n",
       "      <td>not_inst</td>\n",
       "      <td>69.376900</td>\n",
       "      <td>North</td>\n",
       "      <td>direct</td>\n",
       "      <td>0</td>\n",
       "      <td>42.0</td>\n",
       "    </tr>\n",
       "    <tr>\n",
       "      <th>4</th>\n",
       "      <td>24894</td>\n",
       "      <td>2019</td>\n",
       "      <td>cf</td>\n",
       "      <td>Joint</td>\n",
       "      <td>pre</td>\n",
       "      <td>type1</td>\n",
       "      <td>p1</td>\n",
       "      <td>l1</td>\n",
       "      <td>nopc</td>\n",
       "      <td>nob/c</td>\n",
       "      <td>...</td>\n",
       "      <td>CRIF</td>\n",
       "      <td>602</td>\n",
       "      <td>EXP</td>\n",
       "      <td>25-34</td>\n",
       "      <td>not_inst</td>\n",
       "      <td>91.886544</td>\n",
       "      <td>North</td>\n",
       "      <td>direct</td>\n",
       "      <td>0</td>\n",
       "      <td>39.0</td>\n",
       "    </tr>\n",
       "  </tbody>\n",
       "</table>\n",
       "<p>5 rows × 34 columns</p>\n",
       "</div>"
      ],
      "text/plain": [
       "      ID  year loan_limit             Gender approv_in_adv loan_type  \\\n",
       "0  24890  2019         cf  Sex Not Available         nopre     type1   \n",
       "1  24891  2019         cf               Male         nopre     type2   \n",
       "2  24892  2019         cf               Male           pre     type1   \n",
       "3  24893  2019         cf               Male         nopre     type1   \n",
       "4  24894  2019         cf              Joint           pre     type1   \n",
       "\n",
       "  loan_purpose Credit_Worthiness open_credit business_or_commercial  ...  \\\n",
       "0           p1                l1        nopc                  nob/c  ...   \n",
       "1           p1                l1        nopc                    b/c  ...   \n",
       "2           p1                l1        nopc                  nob/c  ...   \n",
       "3           p4                l1        nopc                  nob/c  ...   \n",
       "4           p1                l1        nopc                  nob/c  ...   \n",
       "\n",
       "   credit_type  Credit_Score  co-applicant_credit_type    age  \\\n",
       "0          EXP           758                       CIB  25-34   \n",
       "1         EQUI           552                       EXP  55-64   \n",
       "2          EXP           834                       CIB  35-44   \n",
       "3          EXP           587                       CIB  45-54   \n",
       "4         CRIF           602                       EXP  25-34   \n",
       "\n",
       "   submission_of_application        LTV Region Security_Type  Status dtir1  \n",
       "0                    to_inst  98.728814  south        direct       1  45.0  \n",
       "1                    to_inst        NaN  North        direct       1   NaN  \n",
       "2                    to_inst  80.019685  south        direct       0  46.0  \n",
       "3                   not_inst  69.376900  North        direct       0  42.0  \n",
       "4                   not_inst  91.886544  North        direct       0  39.0  \n",
       "\n",
       "[5 rows x 34 columns]"
      ]
     },
     "execution_count": 2,
     "metadata": {},
     "output_type": "execute_result"
    }
   ],
   "source": [
    "# reading file in and storing the information in a dataframe \n",
    "df = pd.read_csv('Loan_Data.csv')\n",
    "\n",
    "# display few row of the dataframe\n",
    "df.head()"
   ]
  },
  {
   "cell_type": "code",
   "execution_count": 3,
   "id": "9f4f8a20",
   "metadata": {},
   "outputs": [
    {
     "name": "stdout",
     "output_type": "stream",
     "text": [
      "Lenght of dataframe using len():  148670 \n",
      "Lenght of dataframe using shape[0]: 148670\n",
      "Lenght of dataframe using count(): 148670\n"
     ]
    }
   ],
   "source": [
    "# The Pandas len() function returns the length of a dataframe \n",
    "# The safest way to determine the number of rows in a dataframe \n",
    "# is to count the length of the dataframe’s index.\n",
    "\n",
    "print(f\"Lenght of dataframe using len():  {len(df.index)} \")\n",
    "\n",
    "print(f\"Lenght of dataframe using shape[0]: {df.shape[0]}\")\n",
    "\n",
    "\n",
    "\n",
    "# The Pandas .count() method is the  slowest method of the three methods listed here.\n",
    "# The .shape attribute and the len() function are vectorized and take the same length\n",
    "# of time regardless of how large a dataframe is. \n",
    "# The .count() method takes significantly longer with with larger dataframes. \n",
    "\n",
    "print(f\"Lenght of dataframe using count(): {df.count()[0]}\")\n"
   ]
  },
  {
   "cell_type": "code",
   "execution_count": 4,
   "id": "cb60d7a0",
   "metadata": {},
   "outputs": [
    {
     "name": "stdout",
     "output_type": "stream",
     "text": [
      "<class 'pandas.core.frame.DataFrame'>\n",
      "RangeIndex: 148670 entries, 0 to 148669\n",
      "Data columns (total 34 columns):\n",
      " #   Column                     Non-Null Count   Dtype  \n",
      "---  ------                     --------------   -----  \n",
      " 0   ID                         148670 non-null  int64  \n",
      " 1   year                       148670 non-null  int64  \n",
      " 2   loan_limit                 145326 non-null  object \n",
      " 3   Gender                     148670 non-null  object \n",
      " 4   approv_in_adv              147762 non-null  object \n",
      " 5   loan_type                  148670 non-null  object \n",
      " 6   loan_purpose               148536 non-null  object \n",
      " 7   Credit_Worthiness          148670 non-null  object \n",
      " 8   open_credit                148670 non-null  object \n",
      " 9   business_or_commercial     148670 non-null  object \n",
      " 10  loan_amount                148670 non-null  int64  \n",
      " 11  rate_of_interest           112231 non-null  float64\n",
      " 12  Interest_rate_spread       112031 non-null  float64\n",
      " 13  Upfront_charges            109028 non-null  float64\n",
      " 14  term                       148629 non-null  float64\n",
      " 15  Neg_ammortization          148549 non-null  object \n",
      " 16  interest_only              148670 non-null  object \n",
      " 17  lump_sum_payment           148670 non-null  object \n",
      " 18  property_value             133572 non-null  float64\n",
      " 19  construction_type          148670 non-null  object \n",
      " 20  occupancy_type             148670 non-null  object \n",
      " 21  Secured_by                 148670 non-null  object \n",
      " 22  total_units                148670 non-null  object \n",
      " 23  income                     139520 non-null  float64\n",
      " 24  credit_type                148670 non-null  object \n",
      " 25  Credit_Score               148670 non-null  int64  \n",
      " 26  co-applicant_credit_type   148670 non-null  object \n",
      " 27  age                        148470 non-null  object \n",
      " 28  submission_of_application  148470 non-null  object \n",
      " 29  LTV                        133572 non-null  float64\n",
      " 30  Region                     148670 non-null  object \n",
      " 31  Security_Type              148670 non-null  object \n",
      " 32  Status                     148670 non-null  int64  \n",
      " 33  dtir1                      124549 non-null  float64\n",
      "dtypes: float64(8), int64(5), object(21)\n",
      "memory usage: 38.6+ MB\n"
     ]
    }
   ],
   "source": [
    "# the the feature information\n",
    "# important look at the Non-Null count and the Dtype\n",
    "\n",
    "df.info()"
   ]
  },
  {
   "cell_type": "markdown",
   "id": "b5fd13b1",
   "metadata": {},
   "source": [
    "### Features"
   ]
  },
  {
   "cell_type": "markdown",
   "id": "db4583a5",
   "metadata": {},
   "source": [
    "\n",
    "Features\n",
    "\n",
    "*   ID = Customer ID of Applicant\n",
    "*   year = Year of Application\n",
    "*   loan limit = maximum avaliable amount of the loan allowed to be taken\n",
    "*    Gender = sex type\n",
    "*    approv_in_adv = Is loan pre-approved or not\n",
    "*    loan_type = Type of loan\n",
    "*    loan_purpose = the reason you want to borrow money\n",
    "*    Credit_Worthiness = is how a lender determines that you will default on your debt obligations, or how worthy you are to receive new credit.\n",
    "*    open_credit = is a pre-approved loan between a lender and a borrower. It allows the borrower to make repeated withdrawals up to a certain limit.\n",
    "*    business_or_commercial = Usage type of the loan amount\n",
    "*    loan_amount = The exact loan amount\n",
    "*    rate_of_interest = is the amount a lender charges a borrower and is a percentage of the principal—the amount loaned.\n",
    "*    interest_rate_spread = the difference between the interest rate a financial institution pays to depositors and the interest rate it receives from loans\n",
    "*    upfront_charges = Fee paid to a lender by a borrower as consideration for making a new loan\n",
    "*    term = the loan's repayment period\n",
    "*    neg_ammortization = refers to a situation when a loan borrower makes a payment less than the standard installment set by the bank.\n",
    "*    interest_only = amount of interest only without principles\n",
    "*    lump_sum_payment = is an amount of money that is paid in one single payment rather than in installments.\n",
    "*    property_value = the present worth of future benefits arising from the ownership of the property\n",
    "*    construction_type = Collateral construction type\n",
    "*    occupancy_type = classifications refer to categorizing structures based on their usage\n",
    "*    secured_by = Type of Collatoral\n",
    "*    total_units = number of unites\n",
    "*    income = refers to the amount of money, property, and other transfers of value received over a set period of time\n",
    "*    credit_type = type of credit\n",
    "*    co-applicant_credit_type = is an additional person involved in the loan application process. Both applicant and co-applicant apply and sign for the loan\n",
    "*    age = applicant's age\n",
    "*    submission_of_application = Ensure the application is complete or not\n",
    "*    LTV = life-time value (LTV) is a prognostication of the net profit\n",
    "*    region = applicant's place\n",
    "*    security_type = Type of Collatoral\n",
    "*    status = Loan status (Approved/Declined)\n",
    "*    dtir1 = debt-to-income ratio\n",
    "\n"
   ]
  },
  {
   "cell_type": "markdown",
   "id": "6bc360f5",
   "metadata": {},
   "source": [
    "### Data Preprocessing"
   ]
  },
  {
   "cell_type": "markdown",
   "id": "f43cd7ee",
   "metadata": {},
   "source": [
    "Let us visualize the missing data of our dataframe"
   ]
  },
  {
   "cell_type": "code",
   "execution_count": 1,
   "id": "70c85a43",
   "metadata": {},
   "outputs": [],
   "source": [
    "# if you get an error like this -> ModuleNotFoundError: No module named 'missingno'\n",
    "\n",
    "# you my need to run -> pip install missingno\n",
    "# in the terminal\n",
    "\n",
    "import missingno as msno"
   ]
  },
  {
   "cell_type": "code",
   "execution_count": null,
   "id": "f6c7ef2c",
   "metadata": {},
   "outputs": [],
   "source": [
    "msno.matrix(df)\n",
    "plt.figure(figsize = (15,9))\n",
    "plt.show()"
   ]
  },
  {
   "cell_type": "code",
   "execution_count": null,
   "id": "76f006f5",
   "metadata": {},
   "outputs": [],
   "source": [
    "# getting the features (columns) with missing values\n",
    "columns_with_missing_data = [col for col in df.columns if df[col].isnull().sum() > 0]\n",
    "columns_with_missing_data"
   ]
  },
  {
   "cell_type": "markdown",
   "id": "10b8ddaf",
   "metadata": {},
   "source": [
    "Let us look at the correlation matrix using a heatmap"
   ]
  },
  {
   "cell_type": "code",
   "execution_count": null,
   "id": "7046a580",
   "metadata": {},
   "outputs": [],
   "source": [
    "msno.heatmap(df, labels = True)"
   ]
  },
  {
   "cell_type": "markdown",
   "id": "75968344",
   "metadata": {},
   "source": [
    "#### Dendrogram"
   ]
  },
  {
   "cell_type": "markdown",
   "id": "396739ba",
   "metadata": {},
   "source": [
    "A dendrogram is a diagram that shows the hierarchical relationship between objects. It is most commonly created as an output from hierarchical clustering. \n",
    "\n",
    "The dendrogram is a summary of the distance matrix. For example, the dendrogram suggests that C and D are much closer to each other than is C to B."
   ]
  },
  {
   "attachments": {
    "Image1.jpg": {
     "image/jpeg": "[encoded data removed]"
    }
   },
   "cell_type": "markdown",
   "id": "d9b2721e",
   "metadata": {},
   "source": [
    "![Image1.jpg](attachment:Image1.jpg)"
   ]
  },
  {
   "cell_type": "code",
   "execution_count": null,
   "id": "1fc4503a",
   "metadata": {},
   "outputs": [],
   "source": [
    "msno.dendrogram(df[columns_with_missing_data])"
   ]
  },
  {
   "cell_type": "markdown",
   "id": "42a5269c",
   "metadata": {},
   "source": [
    "#### Data Report "
   ]
  },
  {
   "cell_type": "code",
   "execution_count": null,
   "id": "0fb31f26",
   "metadata": {},
   "outputs": [],
   "source": [
    "def get_numerical_summary(df):\n",
    "    total = df.shape[0]\n",
    "    columns_with_missing_data = [col for col in df.columns if df[col].isnull().sum() > 0]\n",
    "    missing_percent = {}\n",
    "\n",
    "    for col in columns_with_missing_data:\n",
    "        null_count = df[col].isnull().sum()\n",
    "        per = (null_count/total) * 100\n",
    "        missing_percent[col] = per\n",
    "        print(\"{} : {} ({}%)\".format(col, null_count, round(per, 3)))\n",
    "    return missing_percent"
   ]
  },
  {
   "cell_type": "code",
   "execution_count": null,
   "id": "6d8be76a",
   "metadata": {},
   "outputs": [],
   "source": [
    "missing_percent = get_numerical_summary(df)"
   ]
  },
  {
   "cell_type": "markdown",
   "id": "2652019b",
   "metadata": {},
   "source": [
    "#### Some ideas on how to handle missing data "
   ]
  },
  {
   "cell_type": "markdown",
   "id": "90b0ebca",
   "metadata": {},
   "source": [
    "How should we deal with features that I have missing data? \n",
    "\n",
    "Do we just delete the row or do we delete the whole entire feature all together. Here are some thoughts on this:\n",
    "\n",
    "* Let R = Number of rows\n",
    "* Let F = Number of Features\n",
    "\n",
    "Case 1: Deletion of Feature\n",
    "\n",
    "If F has range of [1-10] then don't delete the feature that contain missing values but if that feature has missing values around 80-90% then deletion of that attribute will be good option instead of just predicting values of those 80-90% data based on that 10-20% data.\n",
    "\n",
    "Case 2: Deletion of Row\n",
    "\n",
    "If R is a large number according to your task then deletion of row can be a good step, but if that row has few missing values with respect to feature, then you should consider methods to fill those missing values.\n"
   ]
  },
  {
   "cell_type": "markdown",
   "id": "e8aa1c77",
   "metadata": {},
   "source": [
    "* From  report above ->  all feature look OK"
   ]
  },
  {
   "cell_type": "markdown",
   "id": "7e73a16f",
   "metadata": {},
   "source": [
    "##### Here's an illustration how to automate the process of deleting features"
   ]
  },
  {
   "cell_type": "code",
   "execution_count": null,
   "id": "4d8b18b1",
   "metadata": {},
   "outputs": [],
   "source": [
    "def drop_feature(data_frame, threshold):\n",
    "    \n",
    "    for col, per in missing_percent.items():\n",
    "        if per > threshold:\n",
    "            data_frame.drop(col, axis = 1, inplace = True)\n",
    "            \n",
    "    return data_frame"
   ]
  },
  {
   "cell_type": "code",
   "execution_count": null,
   "id": "ba7a9c53",
   "metadata": {},
   "outputs": [],
   "source": [
    "df2 = drop_feature(df.copy(), 20)\n",
    "\n",
    "_ = get_numerical_summary(df2)"
   ]
  },
  {
   "cell_type": "code",
   "execution_count": null,
   "id": "60cf6fc0",
   "metadata": {},
   "outputs": [],
   "source": [
    "_ = get_numerical_summary(df)"
   ]
  },
  {
   "cell_type": "markdown",
   "id": "9f9581c2",
   "metadata": {},
   "source": [
    "##### Here's an illustration how to automate the process of deleting rows"
   ]
  },
  {
   "cell_type": "code",
   "execution_count": null,
   "id": "f6bd2204",
   "metadata": {},
   "outputs": [],
   "source": [
    "# delete rows with missing values in greater than threshold\n",
    "\n",
    "def drop_row(df, threshold):\n",
    "    # Getting Missing count of each sample            \n",
    "    for idx in range(df.shape[0]):\n",
    "        df.loc[idx, 'missing_count'] = df.iloc[idx, :].isnull().sum()  \n",
    "\n",
    "    \n",
    "    df.drop(df[df['missing_count'] > threshold].index, axis = 0, inplace = True)\n",
    "   \n",
    "    return df"
   ]
  },
  {
   "cell_type": "code",
   "execution_count": null,
   "id": "b7b18cfe",
   "metadata": {},
   "outputs": [],
   "source": [
    "print(\"Samples Before Removal : {}\".format(df2.shape[0]))\n",
    "\n",
    "# this can take some time... depand on the shape of the dataframe\n",
    "df2 = drop_row(df2, 2)\n",
    "\n",
    "print(\"Samples After Removal : {}\".format(df2.shape[0]))"
   ]
  },
  {
   "cell_type": "code",
   "execution_count": null,
   "id": "10be107a",
   "metadata": {},
   "outputs": [],
   "source": [
    "msno.matrix(df2)\n",
    "plt.figure(figsize = (15,9))\n",
    "plt.show()"
   ]
  },
  {
   "cell_type": "code",
   "execution_count": null,
   "id": "b243fc1c",
   "metadata": {},
   "outputs": [],
   "source": [
    "print(f\"Lenght of dataframe using len():  {len(df2.index)} \")"
   ]
  },
  {
   "cell_type": "code",
   "execution_count": null,
   "id": "320867e6",
   "metadata": {},
   "outputs": [],
   "source": [
    "# getting the features (columns) with missing values\n",
    "columns_with_missing_data = [col for col in df2.columns if df2[col].isnull().sum() > 0]\n",
    "columns_with_missing_data"
   ]
  },
  {
   "cell_type": "markdown",
   "id": "97b9d82b",
   "metadata": {},
   "source": [
    "#### Encoding missing values -> with fillna "
   ]
  },
  {
   "cell_type": "code",
   "execution_count": null,
   "id": "f5682cff",
   "metadata": {
    "scrolled": true
   },
   "outputs": [],
   "source": [
    "df2.info()"
   ]
  },
  {
   "cell_type": "code",
   "execution_count": null,
   "id": "a9931937",
   "metadata": {},
   "outputs": [],
   "source": [
    "cat_missing_cols = [col for col in columns_with_missing_data if df2[col].dtype == 'object']\n",
    "cat_missing_cols"
   ]
  },
  {
   "cell_type": "code",
   "execution_count": null,
   "id": "b6d2ba89",
   "metadata": {},
   "outputs": [],
   "source": [
    "df2[cat_missing_cols] = df2[cat_missing_cols].fillna('Missing')\n",
    "df2.loan_limit.value_counts()"
   ]
  },
  {
   "cell_type": "code",
   "execution_count": null,
   "id": "2f824361",
   "metadata": {},
   "outputs": [],
   "source": [
    "df2[cat_missing_cols].info()"
   ]
  },
  {
   "cell_type": "code",
   "execution_count": null,
   "id": "34ace182",
   "metadata": {},
   "outputs": [],
   "source": [
    "msno.matrix(df2)\n",
    "plt.figure(figsize = (15,9))\n",
    "plt.show()"
   ]
  },
  {
   "cell_type": "markdown",
   "id": "6f387335",
   "metadata": {},
   "source": [
    "####  K-Nearest Neighbors(KNN) for Imputation"
   ]
  },
  {
   "cell_type": "code",
   "execution_count": null,
   "id": "483f60d6",
   "metadata": {},
   "outputs": [],
   "source": [
    "df3 = df.copy()\n",
    "num_cols = [col for col in df3.columns if df3[col].dtype == 'object']\n",
    "print(num_cols)\n",
    "df4 = df3[num_cols]"
   ]
  },
  {
   "cell_type": "code",
   "execution_count": null,
   "id": "b4d96e33",
   "metadata": {},
   "outputs": [],
   "source": [
    "df4.head()"
   ]
  },
  {
   "cell_type": "code",
   "execution_count": null,
   "id": "623d026f",
   "metadata": {},
   "outputs": [],
   "source": [
    "msno.matrix(df4)\n",
    "plt.figure(figsize = (15,9))\n",
    "plt.show()"
   ]
  },
  {
   "cell_type": "code",
   "execution_count": null,
   "id": "626a5117",
   "metadata": {},
   "outputs": [],
   "source": [
    "# import need \n",
    "from sklearn.impute import KNNImputer"
   ]
  },
  {
   "cell_type": "code",
   "execution_count": null,
   "id": "8c7a6b40",
   "metadata": {},
   "outputs": [],
   "source": [
    "# Initializing KNNImputer\n",
    "knn = KNNImputer(n_neighbors = 3)\n",
    "\n",
    "knn.fit(df4)"
   ]
  },
  {
   "cell_type": "code",
   "execution_count": null,
   "id": "f59c0447",
   "metadata": {},
   "outputs": [],
   "source": [
    "# this takes a long time \n",
    "X = knn.transform(df4)"
   ]
  },
  {
   "cell_type": "code",
   "execution_count": null,
   "id": "bd1c379d",
   "metadata": {},
   "outputs": [],
   "source": [
    "df4 = pd.DataFrame(X, columns = num_cols)\n",
    "df4.info()"
   ]
  },
  {
   "cell_type": "code",
   "execution_count": null,
   "id": "e543470d",
   "metadata": {},
   "outputs": [],
   "source": [
    "msno.matrix(df4)\n",
    "plt.figure(figsize = (15,9))\n",
    "plt.show()"
   ]
  },
  {
   "cell_type": "code",
   "execution_count": null,
   "id": "7333ff3d",
   "metadata": {},
   "outputs": [],
   "source": [
    "df5 = df4.join(df3[df3.columns.difference(df4.columns)])"
   ]
  },
  {
   "cell_type": "code",
   "execution_count": null,
   "id": "01ca6c88",
   "metadata": {},
   "outputs": [],
   "source": [
    "msno.matrix(df5)\n",
    "plt.figure(figsize = (15,9))\n",
    "plt.show()"
   ]
  },
  {
   "cell_type": "code",
   "execution_count": null,
   "id": "71934e75",
   "metadata": {},
   "outputs": [],
   "source": [
    "df5.head()"
   ]
  },
  {
   "cell_type": "markdown",
   "id": "ec62e72e",
   "metadata": {},
   "source": [
    "#### Decision Tree Regressor"
   ]
  },
  {
   "cell_type": "code",
   "execution_count": null,
   "id": "cd046a2b",
   "metadata": {},
   "outputs": [],
   "source": [
    "df6 = df.copy()"
   ]
  },
  {
   "cell_type": "code",
   "execution_count": null,
   "id": "0d4711db",
   "metadata": {},
   "outputs": [],
   "source": [
    "from sklearn.tree import DecisionTreeRegressor\n",
    "from sklearn.preprocessing import LabelEncoder\n",
    "\n",
    "\n",
    "lb = LabelEncoder()\n",
    "\n",
    "cat_cols = [col for col in df6.columns if df6[col].dtype == 'object']\n",
    "\n",
    "for col in cat_cols:\n",
    "    df6[col] = lb.fit_transform(df6[col])"
   ]
  },
  {
   "cell_type": "code",
   "execution_count": null,
   "id": "7c12cd19",
   "metadata": {},
   "outputs": [],
   "source": [
    "df6.head()"
   ]
  },
  {
   "cell_type": "code",
   "execution_count": null,
   "id": "93c2ba8f",
   "metadata": {},
   "outputs": [],
   "source": [
    "from sklearn.ensemble import BaggingRegressor\n",
    "from sklearn.tree import DecisionTreeRegressor\n",
    "\n",
    "\n",
    "def tree_imputation(df):\n",
    "    missing_cols = [col for col in df.columns if df[col].isnull().sum() > 0]\n",
    "    non_missing_cols = [col for col in df.columns if df[col].isnull().sum() == 0]\n",
    "    # num_cols = [col for col in missing_cols if df[col].dtype != 'object']\n",
    "\n",
    "    # df = df[num_cols]\n",
    "    for col in missing_cols:\n",
    "\n",
    "        # Defining a new bagging model for each attribute  \n",
    "        model = BaggingRegressor(DecisionTreeRegressor(), n_estimators = 40, max_samples = 1.0, max_features = 1.0, bootstrap = False, n_jobs = -1)\n",
    "\n",
    "        col_missing = df[df[col].isnull()]\n",
    "        temp = df.drop(df[df[col].isnull()].index, axis = 0)\n",
    "\n",
    "        # print(temp.columns)\n",
    "        # X = temp.drop(col, axis = 1)\n",
    "        X = temp.loc[:, non_missing_cols]\n",
    "        y = temp[col]\n",
    "\n",
    "        model.fit(X, y)\n",
    "\n",
    "        y_pred = model.predict(col_missing[non_missing_cols])\n",
    "        # col_missing[col] = y_pred\n",
    "\n",
    "        df.loc[col_missing.index, col] = y_pred\n",
    "        \n",
    "    return df\n",
    "    "
   ]
  },
  {
   "cell_type": "code",
   "execution_count": null,
   "id": "3d1ee445",
   "metadata": {},
   "outputs": [],
   "source": [
    "# this takes some time\n",
    "df7 = tree_imputation(df6)\n",
    "df7.info()"
   ]
  },
  {
   "cell_type": "code",
   "execution_count": null,
   "id": "c43aff72",
   "metadata": {},
   "outputs": [],
   "source": [
    "df7.head()"
   ]
  },
  {
   "cell_type": "code",
   "execution_count": null,
   "id": "16707982",
   "metadata": {},
   "outputs": [],
   "source": [
    "msno.matrix(df7)\n",
    "plt.show()"
   ]
  },
  {
   "cell_type": "code",
   "execution_count": null,
   "id": "8649150c",
   "metadata": {},
   "outputs": [],
   "source": [
    "df8 = pd.concat([df[cat_cols], df7.drop(cat_cols, axis = 1)], axis = 1)\n",
    "df8.head()"
   ]
  },
  {
   "cell_type": "code",
   "execution_count": null,
   "id": "ec2a8a88",
   "metadata": {},
   "outputs": [],
   "source": [
    "msno.matrix(df8)\n",
    "plt.show()"
   ]
  },
  {
   "cell_type": "code",
   "execution_count": null,
   "id": "e5438878",
   "metadata": {},
   "outputs": [],
   "source": [
    "print(\"Samples Before Removal : {}\".format(df8.shape[0]))\n",
    "\n",
    "# this takes some time\n",
    "df9 = drop_row(df8, 1)\n",
    "\n",
    "print(\"Samples After Removal : {}\".format(df9.shape[0]))"
   ]
  },
  {
   "cell_type": "code",
   "execution_count": null,
   "id": "08516013",
   "metadata": {},
   "outputs": [],
   "source": [
    "msno.matrix(df9)\n",
    "plt.show()"
   ]
  },
  {
   "cell_type": "code",
   "execution_count": null,
   "id": "487461e0",
   "metadata": {},
   "outputs": [],
   "source": [
    "df9.head()"
   ]
  },
  {
   "cell_type": "markdown",
   "id": "11cfc0ce",
   "metadata": {},
   "source": [
    "#### Likelihood Encoding"
   ]
  },
  {
   "cell_type": "code",
   "execution_count": null,
   "id": "860b2918",
   "metadata": {},
   "outputs": [],
   "source": [
    "df10 = df.copy()\n",
    "msno.matrix(df10)\n",
    "plt.show()"
   ]
  },
  {
   "cell_type": "code",
   "execution_count": null,
   "id": "6daf58ba",
   "metadata": {},
   "outputs": [],
   "source": [
    "from sklearn.linear_model import LogisticRegression\n",
    "from sklearn.metrics import accuracy_score\n",
    "from sklearn.preprocessing import LabelEncoder\n",
    "\n",
    "\n",
    "\n",
    "\n",
    "## Again we have to temporarily encode variables\n",
    "lb = LabelEncoder()\n",
    "\n",
    "cat_cols = [col for col in df10.columns if df10[col].dtype == 'object']\n",
    "\n",
    "for col in cat_cols:\n",
    "    df10[col] = lb.fit_transform(df10[col])"
   ]
  },
  {
   "cell_type": "code",
   "execution_count": null,
   "id": "daf45e51",
   "metadata": {},
   "outputs": [],
   "source": [
    "df10.head()"
   ]
  },
  {
   "cell_type": "code",
   "execution_count": null,
   "id": "2d3b509a",
   "metadata": {},
   "outputs": [],
   "source": [
    "def likelihood_encoding(df, cat_cols, target_variable = \"Status\"):\n",
    "    # cat_cols.remove(target_variable)\n",
    "    df_temp = df.copy()\n",
    "    for col in cat_cols:\n",
    "        effect = {}\n",
    "        print(col)\n",
    "        for category in df[col].unique():\n",
    "            print(category)\n",
    "\n",
    "            try:\n",
    "                temp = df[df[col] == category]\n",
    "                lr = LogisticRegression()\n",
    "                X = temp.drop(target_variable, axis = 1, inplace = False)\n",
    "                y = temp[target_variable]\n",
    "                # print(temp.drop(target_variable, axis = 1).isnull().sum())\n",
    "                lr.fit(X, y)\n",
    "\n",
    "                effect[category] = accuracy_score(y, lr.predict(X))\n",
    "            except Exception as E:\n",
    "                print(E)\n",
    "        \n",
    "        for key, value in effect.items():\n",
    "            effect[key] = np.log(effect[key] / (1 - effect[key] + 1e-6))\n",
    "            \n",
    "        df_temp.loc[:, col] = df_temp.loc[:, col].map(effect)\n",
    "    return df_temp\n"
   ]
  },
  {
   "cell_type": "code",
   "execution_count": null,
   "id": "ee180ac8",
   "metadata": {},
   "outputs": [],
   "source": [
    "\n",
    "\n",
    "df11 = likelihood_encoding(df10, cat_cols)\n",
    "df11.head()\n"
   ]
  },
  {
   "cell_type": "code",
   "execution_count": null,
   "id": "e000c774",
   "metadata": {},
   "outputs": [],
   "source": [
    "df11.info()"
   ]
  },
  {
   "cell_type": "code",
   "execution_count": null,
   "id": "7a780693",
   "metadata": {},
   "outputs": [],
   "source": [
    "msno.matrix(df11)\n",
    "plt.show()"
   ]
  },
  {
   "cell_type": "code",
   "execution_count": null,
   "id": "d31ccf09",
   "metadata": {},
   "outputs": [],
   "source": [
    "df12 = pd.concat([df[cat_cols], df11.drop(cat_cols, axis = 1)], axis = 1)\n",
    "df12.head()"
   ]
  },
  {
   "cell_type": "code",
   "execution_count": null,
   "id": "f0199cc0",
   "metadata": {},
   "outputs": [],
   "source": [
    "msno.matrix(df12)\n",
    "plt.show()"
   ]
  },
  {
   "cell_type": "code",
   "execution_count": null,
   "id": "b10f87f7",
   "metadata": {},
   "outputs": [],
   "source": [
    "#df2 = drop_feature(df.copy(), 20)\n",
    "\n",
    "_ = get_numerical_summary(df12)"
   ]
  },
  {
   "cell_type": "code",
   "execution_count": null,
   "id": "03ae9e9c",
   "metadata": {},
   "outputs": [],
   "source": [
    "df13 = drop_row(df12, 1)"
   ]
  },
  {
   "cell_type": "code",
   "execution_count": null,
   "id": "e033bd47",
   "metadata": {},
   "outputs": [],
   "source": [
    "df13.info()"
   ]
  },
  {
   "cell_type": "code",
   "execution_count": null,
   "id": "c3d56ee6",
   "metadata": {},
   "outputs": [],
   "source": [
    "msno.matrix(df13)\n",
    "plt.show()"
   ]
  }
 ],
 "metadata": {
  "kernelspec": {
   "display_name": "Python 3 (ipykernel)",
   "language": "python",
   "name": "python3"
  },
  "language_info": {
   "codemirror_mode": {
    "name": "ipython",
    "version": 3
   },
   "file_extension": ".py",
   "mimetype": "text/x-python",
   "name": "python",
   "nbconvert_exporter": "python",
   "pygments_lexer": "ipython3",
   "version": "3.9.12"
  }
 },
 "nbformat": 4,
 "nbformat_minor": 5
}
