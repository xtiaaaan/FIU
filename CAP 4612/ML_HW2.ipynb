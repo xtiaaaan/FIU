{
 "cells": [
  {
   "cell_type": "markdown",
   "id": "c31b4d97",
   "metadata": {},
   "source": [
    "# Name: Osmany\n",
    "# ID: 6284064\n",
    "# CERTIFICATION: I understand FIU’s academic policies, and I certify that this work is my own and that none of it is the work of any other person.\n"
   ]
  },
  {
   "cell_type": "markdown",
   "id": "572aac7d",
   "metadata": {},
   "source": [
    "# Problem 1"
   ]
  },
  {
   "cell_type": "code",
   "execution_count": 1,
   "id": "cd92917e",
   "metadata": {},
   "outputs": [],
   "source": [
    "import numpy as np\n",
    "import pandas as pd\n",
    "import matplotlib.pyplot as plt\n",
    "import seaborn as sns"
   ]
  },
  {
   "cell_type": "code",
   "execution_count": 2,
   "id": "a3a92460",
   "metadata": {},
   "outputs": [
    {
     "ename": "FileNotFoundError",
     "evalue": "[Errno 2] No such file or directory: 'Cancer_Data.csv'",
     "output_type": "error",
     "traceback": [
      "\u001b[0;31m---------------------------------------------------------------------------\u001b[0m",
      "\u001b[0;31mFileNotFoundError\u001b[0m                         Traceback (most recent call last)",
      "Input \u001b[0;32mIn [2]\u001b[0m, in \u001b[0;36m<cell line: 1>\u001b[0;34m()\u001b[0m\n\u001b[0;32m----> 1\u001b[0m cancer_data \u001b[38;5;241m=\u001b[39m \u001b[43mpd\u001b[49m\u001b[38;5;241;43m.\u001b[39;49m\u001b[43mread_csv\u001b[49m\u001b[43m(\u001b[49m\u001b[38;5;124;43m\"\u001b[39;49m\u001b[38;5;124;43mCancer_Data.csv\u001b[39;49m\u001b[38;5;124;43m\"\u001b[39;49m\u001b[43m)\u001b[49m\n",
      "File \u001b[0;32m~/opt/anaconda3/lib/python3.9/site-packages/pandas/util/_decorators.py:311\u001b[0m, in \u001b[0;36mdeprecate_nonkeyword_arguments.<locals>.decorate.<locals>.wrapper\u001b[0;34m(*args, **kwargs)\u001b[0m\n\u001b[1;32m    305\u001b[0m \u001b[38;5;28;01mif\u001b[39;00m \u001b[38;5;28mlen\u001b[39m(args) \u001b[38;5;241m>\u001b[39m num_allow_args:\n\u001b[1;32m    306\u001b[0m     warnings\u001b[38;5;241m.\u001b[39mwarn(\n\u001b[1;32m    307\u001b[0m         msg\u001b[38;5;241m.\u001b[39mformat(arguments\u001b[38;5;241m=\u001b[39marguments),\n\u001b[1;32m    308\u001b[0m         \u001b[38;5;167;01mFutureWarning\u001b[39;00m,\n\u001b[1;32m    309\u001b[0m         stacklevel\u001b[38;5;241m=\u001b[39mstacklevel,\n\u001b[1;32m    310\u001b[0m     )\n\u001b[0;32m--> 311\u001b[0m \u001b[38;5;28;01mreturn\u001b[39;00m \u001b[43mfunc\u001b[49m\u001b[43m(\u001b[49m\u001b[38;5;241;43m*\u001b[39;49m\u001b[43margs\u001b[49m\u001b[43m,\u001b[49m\u001b[43m \u001b[49m\u001b[38;5;241;43m*\u001b[39;49m\u001b[38;5;241;43m*\u001b[39;49m\u001b[43mkwargs\u001b[49m\u001b[43m)\u001b[49m\n",
      "File \u001b[0;32m~/opt/anaconda3/lib/python3.9/site-packages/pandas/io/parsers/readers.py:586\u001b[0m, in \u001b[0;36mread_csv\u001b[0;34m(filepath_or_buffer, sep, delimiter, header, names, index_col, usecols, squeeze, prefix, mangle_dupe_cols, dtype, engine, converters, true_values, false_values, skipinitialspace, skiprows, skipfooter, nrows, na_values, keep_default_na, na_filter, verbose, skip_blank_lines, parse_dates, infer_datetime_format, keep_date_col, date_parser, dayfirst, cache_dates, iterator, chunksize, compression, thousands, decimal, lineterminator, quotechar, quoting, doublequote, escapechar, comment, encoding, encoding_errors, dialect, error_bad_lines, warn_bad_lines, on_bad_lines, delim_whitespace, low_memory, memory_map, float_precision, storage_options)\u001b[0m\n\u001b[1;32m    571\u001b[0m kwds_defaults \u001b[38;5;241m=\u001b[39m _refine_defaults_read(\n\u001b[1;32m    572\u001b[0m     dialect,\n\u001b[1;32m    573\u001b[0m     delimiter,\n\u001b[0;32m   (...)\u001b[0m\n\u001b[1;32m    582\u001b[0m     defaults\u001b[38;5;241m=\u001b[39m{\u001b[38;5;124m\"\u001b[39m\u001b[38;5;124mdelimiter\u001b[39m\u001b[38;5;124m\"\u001b[39m: \u001b[38;5;124m\"\u001b[39m\u001b[38;5;124m,\u001b[39m\u001b[38;5;124m\"\u001b[39m},\n\u001b[1;32m    583\u001b[0m )\n\u001b[1;32m    584\u001b[0m kwds\u001b[38;5;241m.\u001b[39mupdate(kwds_defaults)\n\u001b[0;32m--> 586\u001b[0m \u001b[38;5;28;01mreturn\u001b[39;00m \u001b[43m_read\u001b[49m\u001b[43m(\u001b[49m\u001b[43mfilepath_or_buffer\u001b[49m\u001b[43m,\u001b[49m\u001b[43m \u001b[49m\u001b[43mkwds\u001b[49m\u001b[43m)\u001b[49m\n",
      "File \u001b[0;32m~/opt/anaconda3/lib/python3.9/site-packages/pandas/io/parsers/readers.py:482\u001b[0m, in \u001b[0;36m_read\u001b[0;34m(filepath_or_buffer, kwds)\u001b[0m\n\u001b[1;32m    479\u001b[0m _validate_names(kwds\u001b[38;5;241m.\u001b[39mget(\u001b[38;5;124m\"\u001b[39m\u001b[38;5;124mnames\u001b[39m\u001b[38;5;124m\"\u001b[39m, \u001b[38;5;28;01mNone\u001b[39;00m))\n\u001b[1;32m    481\u001b[0m \u001b[38;5;66;03m# Create the parser.\u001b[39;00m\n\u001b[0;32m--> 482\u001b[0m parser \u001b[38;5;241m=\u001b[39m \u001b[43mTextFileReader\u001b[49m\u001b[43m(\u001b[49m\u001b[43mfilepath_or_buffer\u001b[49m\u001b[43m,\u001b[49m\u001b[43m \u001b[49m\u001b[38;5;241;43m*\u001b[39;49m\u001b[38;5;241;43m*\u001b[39;49m\u001b[43mkwds\u001b[49m\u001b[43m)\u001b[49m\n\u001b[1;32m    484\u001b[0m \u001b[38;5;28;01mif\u001b[39;00m chunksize \u001b[38;5;129;01mor\u001b[39;00m iterator:\n\u001b[1;32m    485\u001b[0m     \u001b[38;5;28;01mreturn\u001b[39;00m parser\n",
      "File \u001b[0;32m~/opt/anaconda3/lib/python3.9/site-packages/pandas/io/parsers/readers.py:811\u001b[0m, in \u001b[0;36mTextFileReader.__init__\u001b[0;34m(self, f, engine, **kwds)\u001b[0m\n\u001b[1;32m    808\u001b[0m \u001b[38;5;28;01mif\u001b[39;00m \u001b[38;5;124m\"\u001b[39m\u001b[38;5;124mhas_index_names\u001b[39m\u001b[38;5;124m\"\u001b[39m \u001b[38;5;129;01min\u001b[39;00m kwds:\n\u001b[1;32m    809\u001b[0m     \u001b[38;5;28mself\u001b[39m\u001b[38;5;241m.\u001b[39moptions[\u001b[38;5;124m\"\u001b[39m\u001b[38;5;124mhas_index_names\u001b[39m\u001b[38;5;124m\"\u001b[39m] \u001b[38;5;241m=\u001b[39m kwds[\u001b[38;5;124m\"\u001b[39m\u001b[38;5;124mhas_index_names\u001b[39m\u001b[38;5;124m\"\u001b[39m]\n\u001b[0;32m--> 811\u001b[0m \u001b[38;5;28mself\u001b[39m\u001b[38;5;241m.\u001b[39m_engine \u001b[38;5;241m=\u001b[39m \u001b[38;5;28;43mself\u001b[39;49m\u001b[38;5;241;43m.\u001b[39;49m\u001b[43m_make_engine\u001b[49m\u001b[43m(\u001b[49m\u001b[38;5;28;43mself\u001b[39;49m\u001b[38;5;241;43m.\u001b[39;49m\u001b[43mengine\u001b[49m\u001b[43m)\u001b[49m\n",
      "File \u001b[0;32m~/opt/anaconda3/lib/python3.9/site-packages/pandas/io/parsers/readers.py:1040\u001b[0m, in \u001b[0;36mTextFileReader._make_engine\u001b[0;34m(self, engine)\u001b[0m\n\u001b[1;32m   1036\u001b[0m     \u001b[38;5;28;01mraise\u001b[39;00m \u001b[38;5;167;01mValueError\u001b[39;00m(\n\u001b[1;32m   1037\u001b[0m         \u001b[38;5;124mf\u001b[39m\u001b[38;5;124m\"\u001b[39m\u001b[38;5;124mUnknown engine: \u001b[39m\u001b[38;5;132;01m{\u001b[39;00mengine\u001b[38;5;132;01m}\u001b[39;00m\u001b[38;5;124m (valid options are \u001b[39m\u001b[38;5;132;01m{\u001b[39;00mmapping\u001b[38;5;241m.\u001b[39mkeys()\u001b[38;5;132;01m}\u001b[39;00m\u001b[38;5;124m)\u001b[39m\u001b[38;5;124m\"\u001b[39m\n\u001b[1;32m   1038\u001b[0m     )\n\u001b[1;32m   1039\u001b[0m \u001b[38;5;66;03m# error: Too many arguments for \"ParserBase\"\u001b[39;00m\n\u001b[0;32m-> 1040\u001b[0m \u001b[38;5;28;01mreturn\u001b[39;00m \u001b[43mmapping\u001b[49m\u001b[43m[\u001b[49m\u001b[43mengine\u001b[49m\u001b[43m]\u001b[49m\u001b[43m(\u001b[49m\u001b[38;5;28;43mself\u001b[39;49m\u001b[38;5;241;43m.\u001b[39;49m\u001b[43mf\u001b[49m\u001b[43m,\u001b[49m\u001b[43m \u001b[49m\u001b[38;5;241;43m*\u001b[39;49m\u001b[38;5;241;43m*\u001b[39;49m\u001b[38;5;28;43mself\u001b[39;49m\u001b[38;5;241;43m.\u001b[39;49m\u001b[43moptions\u001b[49m\u001b[43m)\u001b[49m\n",
      "File \u001b[0;32m~/opt/anaconda3/lib/python3.9/site-packages/pandas/io/parsers/c_parser_wrapper.py:51\u001b[0m, in \u001b[0;36mCParserWrapper.__init__\u001b[0;34m(self, src, **kwds)\u001b[0m\n\u001b[1;32m     48\u001b[0m kwds[\u001b[38;5;124m\"\u001b[39m\u001b[38;5;124musecols\u001b[39m\u001b[38;5;124m\"\u001b[39m] \u001b[38;5;241m=\u001b[39m \u001b[38;5;28mself\u001b[39m\u001b[38;5;241m.\u001b[39musecols\n\u001b[1;32m     50\u001b[0m \u001b[38;5;66;03m# open handles\u001b[39;00m\n\u001b[0;32m---> 51\u001b[0m \u001b[38;5;28;43mself\u001b[39;49m\u001b[38;5;241;43m.\u001b[39;49m\u001b[43m_open_handles\u001b[49m\u001b[43m(\u001b[49m\u001b[43msrc\u001b[49m\u001b[43m,\u001b[49m\u001b[43m \u001b[49m\u001b[43mkwds\u001b[49m\u001b[43m)\u001b[49m\n\u001b[1;32m     52\u001b[0m \u001b[38;5;28;01massert\u001b[39;00m \u001b[38;5;28mself\u001b[39m\u001b[38;5;241m.\u001b[39mhandles \u001b[38;5;129;01mis\u001b[39;00m \u001b[38;5;129;01mnot\u001b[39;00m \u001b[38;5;28;01mNone\u001b[39;00m\n\u001b[1;32m     54\u001b[0m \u001b[38;5;66;03m# Have to pass int, would break tests using TextReader directly otherwise :(\u001b[39;00m\n",
      "File \u001b[0;32m~/opt/anaconda3/lib/python3.9/site-packages/pandas/io/parsers/base_parser.py:222\u001b[0m, in \u001b[0;36mParserBase._open_handles\u001b[0;34m(self, src, kwds)\u001b[0m\n\u001b[1;32m    218\u001b[0m \u001b[38;5;28;01mdef\u001b[39;00m \u001b[38;5;21m_open_handles\u001b[39m(\u001b[38;5;28mself\u001b[39m, src: FilePathOrBuffer, kwds: \u001b[38;5;28mdict\u001b[39m[\u001b[38;5;28mstr\u001b[39m, Any]) \u001b[38;5;241m-\u001b[39m\u001b[38;5;241m>\u001b[39m \u001b[38;5;28;01mNone\u001b[39;00m:\n\u001b[1;32m    219\u001b[0m     \u001b[38;5;124;03m\"\"\"\u001b[39;00m\n\u001b[1;32m    220\u001b[0m \u001b[38;5;124;03m    Let the readers open IOHandles after they are done with their potential raises.\u001b[39;00m\n\u001b[1;32m    221\u001b[0m \u001b[38;5;124;03m    \"\"\"\u001b[39;00m\n\u001b[0;32m--> 222\u001b[0m     \u001b[38;5;28mself\u001b[39m\u001b[38;5;241m.\u001b[39mhandles \u001b[38;5;241m=\u001b[39m \u001b[43mget_handle\u001b[49m\u001b[43m(\u001b[49m\n\u001b[1;32m    223\u001b[0m \u001b[43m        \u001b[49m\u001b[43msrc\u001b[49m\u001b[43m,\u001b[49m\n\u001b[1;32m    224\u001b[0m \u001b[43m        \u001b[49m\u001b[38;5;124;43m\"\u001b[39;49m\u001b[38;5;124;43mr\u001b[39;49m\u001b[38;5;124;43m\"\u001b[39;49m\u001b[43m,\u001b[49m\n\u001b[1;32m    225\u001b[0m \u001b[43m        \u001b[49m\u001b[43mencoding\u001b[49m\u001b[38;5;241;43m=\u001b[39;49m\u001b[43mkwds\u001b[49m\u001b[38;5;241;43m.\u001b[39;49m\u001b[43mget\u001b[49m\u001b[43m(\u001b[49m\u001b[38;5;124;43m\"\u001b[39;49m\u001b[38;5;124;43mencoding\u001b[39;49m\u001b[38;5;124;43m\"\u001b[39;49m\u001b[43m,\u001b[49m\u001b[43m \u001b[49m\u001b[38;5;28;43;01mNone\u001b[39;49;00m\u001b[43m)\u001b[49m\u001b[43m,\u001b[49m\n\u001b[1;32m    226\u001b[0m \u001b[43m        \u001b[49m\u001b[43mcompression\u001b[49m\u001b[38;5;241;43m=\u001b[39;49m\u001b[43mkwds\u001b[49m\u001b[38;5;241;43m.\u001b[39;49m\u001b[43mget\u001b[49m\u001b[43m(\u001b[49m\u001b[38;5;124;43m\"\u001b[39;49m\u001b[38;5;124;43mcompression\u001b[39;49m\u001b[38;5;124;43m\"\u001b[39;49m\u001b[43m,\u001b[49m\u001b[43m \u001b[49m\u001b[38;5;28;43;01mNone\u001b[39;49;00m\u001b[43m)\u001b[49m\u001b[43m,\u001b[49m\n\u001b[1;32m    227\u001b[0m \u001b[43m        \u001b[49m\u001b[43mmemory_map\u001b[49m\u001b[38;5;241;43m=\u001b[39;49m\u001b[43mkwds\u001b[49m\u001b[38;5;241;43m.\u001b[39;49m\u001b[43mget\u001b[49m\u001b[43m(\u001b[49m\u001b[38;5;124;43m\"\u001b[39;49m\u001b[38;5;124;43mmemory_map\u001b[39;49m\u001b[38;5;124;43m\"\u001b[39;49m\u001b[43m,\u001b[49m\u001b[43m \u001b[49m\u001b[38;5;28;43;01mFalse\u001b[39;49;00m\u001b[43m)\u001b[49m\u001b[43m,\u001b[49m\n\u001b[1;32m    228\u001b[0m \u001b[43m        \u001b[49m\u001b[43mstorage_options\u001b[49m\u001b[38;5;241;43m=\u001b[39;49m\u001b[43mkwds\u001b[49m\u001b[38;5;241;43m.\u001b[39;49m\u001b[43mget\u001b[49m\u001b[43m(\u001b[49m\u001b[38;5;124;43m\"\u001b[39;49m\u001b[38;5;124;43mstorage_options\u001b[39;49m\u001b[38;5;124;43m\"\u001b[39;49m\u001b[43m,\u001b[49m\u001b[43m \u001b[49m\u001b[38;5;28;43;01mNone\u001b[39;49;00m\u001b[43m)\u001b[49m\u001b[43m,\u001b[49m\n\u001b[1;32m    229\u001b[0m \u001b[43m        \u001b[49m\u001b[43merrors\u001b[49m\u001b[38;5;241;43m=\u001b[39;49m\u001b[43mkwds\u001b[49m\u001b[38;5;241;43m.\u001b[39;49m\u001b[43mget\u001b[49m\u001b[43m(\u001b[49m\u001b[38;5;124;43m\"\u001b[39;49m\u001b[38;5;124;43mencoding_errors\u001b[39;49m\u001b[38;5;124;43m\"\u001b[39;49m\u001b[43m,\u001b[49m\u001b[43m \u001b[49m\u001b[38;5;124;43m\"\u001b[39;49m\u001b[38;5;124;43mstrict\u001b[39;49m\u001b[38;5;124;43m\"\u001b[39;49m\u001b[43m)\u001b[49m\u001b[43m,\u001b[49m\n\u001b[1;32m    230\u001b[0m \u001b[43m    \u001b[49m\u001b[43m)\u001b[49m\n",
      "File \u001b[0;32m~/opt/anaconda3/lib/python3.9/site-packages/pandas/io/common.py:702\u001b[0m, in \u001b[0;36mget_handle\u001b[0;34m(path_or_buf, mode, encoding, compression, memory_map, is_text, errors, storage_options)\u001b[0m\n\u001b[1;32m    697\u001b[0m \u001b[38;5;28;01melif\u001b[39;00m \u001b[38;5;28misinstance\u001b[39m(handle, \u001b[38;5;28mstr\u001b[39m):\n\u001b[1;32m    698\u001b[0m     \u001b[38;5;66;03m# Check whether the filename is to be opened in binary mode.\u001b[39;00m\n\u001b[1;32m    699\u001b[0m     \u001b[38;5;66;03m# Binary mode does not support 'encoding' and 'newline'.\u001b[39;00m\n\u001b[1;32m    700\u001b[0m     \u001b[38;5;28;01mif\u001b[39;00m ioargs\u001b[38;5;241m.\u001b[39mencoding \u001b[38;5;129;01mand\u001b[39;00m \u001b[38;5;124m\"\u001b[39m\u001b[38;5;124mb\u001b[39m\u001b[38;5;124m\"\u001b[39m \u001b[38;5;129;01mnot\u001b[39;00m \u001b[38;5;129;01min\u001b[39;00m ioargs\u001b[38;5;241m.\u001b[39mmode:\n\u001b[1;32m    701\u001b[0m         \u001b[38;5;66;03m# Encoding\u001b[39;00m\n\u001b[0;32m--> 702\u001b[0m         handle \u001b[38;5;241m=\u001b[39m \u001b[38;5;28;43mopen\u001b[39;49m\u001b[43m(\u001b[49m\n\u001b[1;32m    703\u001b[0m \u001b[43m            \u001b[49m\u001b[43mhandle\u001b[49m\u001b[43m,\u001b[49m\n\u001b[1;32m    704\u001b[0m \u001b[43m            \u001b[49m\u001b[43mioargs\u001b[49m\u001b[38;5;241;43m.\u001b[39;49m\u001b[43mmode\u001b[49m\u001b[43m,\u001b[49m\n\u001b[1;32m    705\u001b[0m \u001b[43m            \u001b[49m\u001b[43mencoding\u001b[49m\u001b[38;5;241;43m=\u001b[39;49m\u001b[43mioargs\u001b[49m\u001b[38;5;241;43m.\u001b[39;49m\u001b[43mencoding\u001b[49m\u001b[43m,\u001b[49m\n\u001b[1;32m    706\u001b[0m \u001b[43m            \u001b[49m\u001b[43merrors\u001b[49m\u001b[38;5;241;43m=\u001b[39;49m\u001b[43merrors\u001b[49m\u001b[43m,\u001b[49m\n\u001b[1;32m    707\u001b[0m \u001b[43m            \u001b[49m\u001b[43mnewline\u001b[49m\u001b[38;5;241;43m=\u001b[39;49m\u001b[38;5;124;43m\"\u001b[39;49m\u001b[38;5;124;43m\"\u001b[39;49m\u001b[43m,\u001b[49m\n\u001b[1;32m    708\u001b[0m \u001b[43m        \u001b[49m\u001b[43m)\u001b[49m\n\u001b[1;32m    709\u001b[0m     \u001b[38;5;28;01melse\u001b[39;00m:\n\u001b[1;32m    710\u001b[0m         \u001b[38;5;66;03m# Binary mode\u001b[39;00m\n\u001b[1;32m    711\u001b[0m         handle \u001b[38;5;241m=\u001b[39m \u001b[38;5;28mopen\u001b[39m(handle, ioargs\u001b[38;5;241m.\u001b[39mmode)\n",
      "\u001b[0;31mFileNotFoundError\u001b[0m: [Errno 2] No such file or directory: 'Cancer_Data.csv'"
     ]
    }
   ],
   "source": [
    "cancer_data = pd.read_csv(\"Cancer_Data.csv\")"
   ]
  },
  {
   "cell_type": "code",
   "execution_count": null,
   "id": "d65b213f",
   "metadata": {},
   "outputs": [],
   "source": [
    "cancer_data.head()"
   ]
  },
  {
   "cell_type": "markdown",
   "id": "ff3aec04",
   "metadata": {},
   "source": [
    "# Problem 2"
   ]
  },
  {
   "cell_type": "code",
   "execution_count": null,
   "id": "57f2e86c",
   "metadata": {},
   "outputs": [],
   "source": [
    "cancer_data.describe()"
   ]
  },
  {
   "cell_type": "markdown",
   "id": "7f0f5531",
   "metadata": {},
   "source": [
    "# Problem 3"
   ]
  },
  {
   "cell_type": "code",
   "execution_count": null,
   "id": "202b9bcb",
   "metadata": {},
   "outputs": [],
   "source": [
    "print(f\"There are {cancer_data.shape[0]} rows  and {cancer_data.shape[1]} columns\")"
   ]
  },
  {
   "cell_type": "markdown",
   "id": "038bc375",
   "metadata": {},
   "source": [
    "# Problem 4"
   ]
  },
  {
   "cell_type": "code",
   "execution_count": null,
   "id": "449728d9",
   "metadata": {},
   "outputs": [],
   "source": [
    "cancer_data.columns"
   ]
  },
  {
   "cell_type": "markdown",
   "id": "72640874",
   "metadata": {},
   "source": [
    "# Problem 5"
   ]
  },
  {
   "cell_type": "code",
   "execution_count": null,
   "id": "4575876d",
   "metadata": {},
   "outputs": [],
   "source": [
    "sns.countplot(x=\"diagnosis\",data=cancer_data)"
   ]
  },
  {
   "cell_type": "markdown",
   "id": "e1014b8d",
   "metadata": {},
   "source": [
    "# Problem 6"
   ]
  },
  {
   "cell_type": "code",
   "execution_count": null,
   "id": "1d6e3eec",
   "metadata": {},
   "outputs": [],
   "source": [
    "cols = cancer_data.columns[2:8]\n",
    "cols"
   ]
  },
  {
   "cell_type": "code",
   "execution_count": null,
   "id": "a6edb09c",
   "metadata": {},
   "outputs": [],
   "source": [
    "fig, axes = plt.subplots(2,3, figsize=(10,10))\n",
    "fig.tight_layout(pad=5)\n",
    "\n",
    "col_num = 0\n",
    "for i in range(2):\n",
    "    for j in range(3):\n",
    "        sns.boxplot(ax=axes[i,j],data=cancer_data[cols[col_num]])\n",
    "        axes[i,j].set_title(cols[col_num])\n",
    "        col_num +=1\n"
   ]
  },
  {
   "cell_type": "markdown",
   "id": "e7cd289c",
   "metadata": {},
   "source": [
    "# Problem 7"
   ]
  },
  {
   "cell_type": "code",
   "execution_count": null,
   "id": "1a9c0ce3",
   "metadata": {},
   "outputs": [],
   "source": [
    "import missingno as msno"
   ]
  },
  {
   "cell_type": "code",
   "execution_count": null,
   "id": "1f0c1924",
   "metadata": {},
   "outputs": [],
   "source": [
    "msno.matrix(cancer_data)\n",
    "plt.figure(figsize=(15,9))\n",
    "plt.show()"
   ]
  },
  {
   "cell_type": "markdown",
   "id": "07f125ba",
   "metadata": {},
   "source": [
    "# Problem 8"
   ]
  },
  {
   "cell_type": "code",
   "execution_count": null,
   "id": "97a95417",
   "metadata": {},
   "outputs": [],
   "source": [
    "columns_with_missing_data = [col for col in cancer_data.columns if cancer_data[col].isnull().sum() > 0]\n",
    "columns_with_missing_data"
   ]
  },
  {
   "cell_type": "markdown",
   "id": "bb410a5c",
   "metadata": {},
   "source": [
    "# Problem 9"
   ]
  },
  {
   "cell_type": "code",
   "execution_count": null,
   "id": "7ae7c37e",
   "metadata": {},
   "outputs": [],
   "source": [
    "cancer_data.info()"
   ]
  },
  {
   "cell_type": "markdown",
   "id": "9fd28742",
   "metadata": {},
   "source": [
    "# Problem 10"
   ]
  },
  {
   "cell_type": "code",
   "execution_count": null,
   "id": "8ab69000",
   "metadata": {},
   "outputs": [],
   "source": [
    "def get_numerical_summary(df):\n",
    "    total = df.shape[0]\n",
    "    column_with_missing_data = [col for col in df.columns if df[col].isnull().sum()>0]\n",
    "    missing_percent = {}\n",
    "    \n",
    "    for col in column_with_missing_data:\n",
    "        null_count = df[col].isnull().sum()\n",
    "        per = (null_count/total)*100\n",
    "        missing_percent[col] = per\n",
    "        print(f\"{col} : {null_count} ({round(per,3)}%)\")\n",
    "        \n",
    "    return missing_percent\n",
    "    "
   ]
  },
  {
   "cell_type": "code",
   "execution_count": null,
   "id": "6edf6e97",
   "metadata": {},
   "outputs": [],
   "source": [
    "missing_percentage = get_numerical_summary(cancer_data)"
   ]
  },
  {
   "cell_type": "markdown",
   "id": "3d8d6869",
   "metadata": {},
   "source": [
    "# Problem 11"
   ]
  },
  {
   "cell_type": "code",
   "execution_count": null,
   "id": "4a03248d",
   "metadata": {},
   "outputs": [],
   "source": [
    "def drop_feature(df, threshold):\n",
    "    for col, per in missing_percentage.items():\n",
    "        if per > threshold:\n",
    "            df.drop(col, axis = 1, inplace= True)\n",
    "    \n",
    "    return df"
   ]
  },
  {
   "cell_type": "code",
   "execution_count": null,
   "id": "9304fb0a",
   "metadata": {},
   "outputs": [],
   "source": [
    "cancer_data_cleaned = drop_feature(cancer_data.copy(),22)\n",
    "_ = get_numerical_summary(cancer_data_cleaned)"
   ]
  },
  {
   "cell_type": "markdown",
   "id": "176514a8",
   "metadata": {},
   "source": [
    "# Problem 11.2"
   ]
  },
  {
   "cell_type": "code",
   "execution_count": null,
   "id": "4e165b06",
   "metadata": {},
   "outputs": [],
   "source": [
    "def drop_row(df, threshold):\n",
    "    for index in range(df.shape[0]):\n",
    "        df.loc[index,'missing_count'] = df.iloc[index, :].isnull().sum()\n",
    "        \n",
    "    df.drop(df[df['missing_count'] > threshold].index, axis = 0, inplace=True)\n",
    "    \n",
    "    return df"
   ]
  },
  {
   "cell_type": "code",
   "execution_count": null,
   "id": "6aeeeee7",
   "metadata": {},
   "outputs": [],
   "source": [
    "print(f\"Samples before removal {cancer_data_cleaned.shape[0]}\")\n",
    "\n",
    "cancer_data_cleaned = drop_row(cancer_data_cleaned,1)\n",
    "print(f\"Samples after removal {cancer_data_cleaned.shape[0]}\")"
   ]
  },
  {
   "cell_type": "markdown",
   "id": "1fa108e1",
   "metadata": {},
   "source": [
    "# Problem 12"
   ]
  },
  {
   "cell_type": "code",
   "execution_count": null,
   "id": "77440859",
   "metadata": {},
   "outputs": [],
   "source": [
    "cancer_data_cleaned.info()"
   ]
  },
  {
   "cell_type": "markdown",
   "id": "33d7880d",
   "metadata": {},
   "source": [
    "# Problem 13"
   ]
  },
  {
   "cell_type": "code",
   "execution_count": null,
   "id": "21e54b7c",
   "metadata": {},
   "outputs": [],
   "source": [
    "from sklearn.preprocessing import LabelEncoder"
   ]
  },
  {
   "cell_type": "code",
   "execution_count": null,
   "id": "9952f319",
   "metadata": {},
   "outputs": [],
   "source": [
    "lb = LabelEncoder()\n",
    "cat_cols = [col for col in cancer_data_cleaned.columns if cancer_data_cleaned[col].dtype == 'object']\n",
    "\n",
    "for col in cat_cols:\n",
    "    cancer_data_cleaned[col] = lb.fit_transform(cancer_data_cleaned[col])"
   ]
  },
  {
   "cell_type": "code",
   "execution_count": null,
   "id": "7d65e6b4",
   "metadata": {},
   "outputs": [],
   "source": [
    "cancer_data_cleaned.head()"
   ]
  },
  {
   "cell_type": "markdown",
   "id": "a7b06640",
   "metadata": {},
   "source": [
    "# Problem 14"
   ]
  },
  {
   "cell_type": "code",
   "execution_count": null,
   "id": "eecf0fe9",
   "metadata": {},
   "outputs": [],
   "source": [
    "cancer_data_cleaned.info()"
   ]
  },
  {
   "cell_type": "markdown",
   "id": "512b3831",
   "metadata": {},
   "source": [
    "# Problem 15"
   ]
  },
  {
   "cell_type": "code",
   "execution_count": null,
   "id": "f9b32b5f",
   "metadata": {},
   "outputs": [],
   "source": [
    "from sklearn.model_selection import train_test_split\n",
    "from sklearn.linear_model import LogisticRegression\n",
    "from sklearn import metrics"
   ]
  },
  {
   "cell_type": "code",
   "execution_count": null,
   "id": "5cfe257a",
   "metadata": {},
   "outputs": [],
   "source": [
    "def automation_lr(x,y):\n",
    "    report_df = pd.DataFrame(columns=['Test_Size','Train_Accuracy_Score', 'Test_Accuracy_Score','Normalize_Score'])\n",
    "    model = LogisticRegression(max_iter=10000)\n",
    "    \n",
    "    sizes = np.arange(0.1,1.0,0.1)\n",
    "    \n",
    "    for loc,size in enumerate(sizes):\n",
    "        # split the data\n",
    "        x_train, x_test, y_train, y_test = train_test_split(x, y,train_size = size, shuffle= True)\n",
    "        \n",
    "        # fit the model\n",
    "        model.fit(x_train,y_train)\n",
    "        \n",
    "        # test and train predicitons\n",
    "        train_pred = model.predict(x_train)\n",
    "        test_pred = model.predict(x_test)\n",
    "        \n",
    "        # test and train accuracy\n",
    "        train_acc = metrics.accuracy_score(train_pred,y_train)\n",
    "        test_acc = metrics.accuracy_score(test_pred,y_test)\n",
    "        \n",
    "        normalized_score = test_acc/train_acc\n",
    "        \n",
    "        report_df.loc[loc] = [size,train_acc,test_acc,normalized_score]\n",
    "    return report_df"
   ]
  },
  {
   "cell_type": "markdown",
   "id": "59fdd0e0",
   "metadata": {},
   "source": [
    "# Problem 16"
   ]
  },
  {
   "cell_type": "code",
   "execution_count": null,
   "id": "f8ad2a3c",
   "metadata": {},
   "outputs": [],
   "source": [
    "x = cancer_data_cleaned.iloc[:,2:31]\n",
    "y = cancer_data_cleaned.iloc[:,1]"
   ]
  },
  {
   "cell_type": "code",
   "execution_count": null,
   "id": "cc9ef5b3",
   "metadata": {},
   "outputs": [],
   "source": [
    "report = automation_lr(x,y)\n",
    "report"
   ]
  },
  {
   "cell_type": "markdown",
   "id": "9af54404",
   "metadata": {},
   "source": [
    "# Problem 17"
   ]
  },
  {
   "cell_type": "code",
   "execution_count": null,
   "id": "6bd026e2",
   "metadata": {},
   "outputs": [],
   "source": [
    "lr_model = LogisticRegression(max_iter=10000)\n",
    "x_train, x_test, y_train, y_test = train_test_split(x, y,train_size = 0.8, shuffle= True)\n",
    "\n",
    "# fit the model\n",
    "lr_model.fit(x_train,y_train)\n",
    "\n",
    "# test and train predicitons\n",
    "train_pred = lr_model.predict(x_train)\n",
    "test_pred = lr_model.predict(x_test)\n",
    "\n",
    "# test and train accuracy\n",
    "train_acc = metrics.accuracy_score(train_pred,y_train)\n",
    "test_acc = metrics.accuracy_score(test_pred,y_test)\n",
    "\n",
    "print(f\"Train Accuracy Score = {train_acc}\")\n",
    "print(f\"Test Accuracy Score = {test_acc}\")"
   ]
  },
  {
   "cell_type": "markdown",
   "id": "2acde7b6",
   "metadata": {},
   "source": [
    "# Problem 18"
   ]
  },
  {
   "cell_type": "code",
   "execution_count": null,
   "id": "b17e901f",
   "metadata": {},
   "outputs": [],
   "source": [
    "y = cancer_data_cleaned.head(10).iloc[:,1]\n",
    "x = cancer_data_cleaned.head(10).iloc[:,2:31]"
   ]
  },
  {
   "cell_type": "code",
   "execution_count": null,
   "id": "a1711cb2",
   "metadata": {},
   "outputs": [],
   "source": [
    "# test and train predicitons\n",
    "pred = lr_model.predict(x)\n",
    "\n",
    "# test and train accuracy\n",
    "test_acc = metrics.accuracy_score(pred,y)\n",
    "\n",
    "print(f\"Test Accuracy Score = {test_acc}\")"
   ]
  },
  {
   "cell_type": "markdown",
   "id": "5840e456",
   "metadata": {},
   "source": [
    "# Problem 19"
   ]
  },
  {
   "cell_type": "markdown",
   "id": "1f6bee1b",
   "metadata": {},
   "source": [
    "### I chose to train the model with 80% because it seems to perform much better\n",
    "### I am willing to take the risk of the model overfitting and including random noise\n",
    "### Also i think i this situation is better to risk getting more type1 errors"
   ]
  },
  {
   "cell_type": "markdown",
   "id": "dc2d39b6",
   "metadata": {},
   "source": [
    "# Problem 20"
   ]
  },
  {
   "cell_type": "code",
   "execution_count": null,
   "id": "a2469b97",
   "metadata": {},
   "outputs": [],
   "source": [
    "knn_data = pd.read_csv(\"Cancer_Data.csv\")"
   ]
  },
  {
   "cell_type": "code",
   "execution_count": null,
   "id": "e978774b",
   "metadata": {},
   "outputs": [],
   "source": [
    "msno.matrix(knn_data)\n",
    "plt.figure(figsize=(15,9))\n",
    "plt.show()"
   ]
  },
  {
   "cell_type": "markdown",
   "id": "8352edab",
   "metadata": {},
   "source": [
    "# Problem 21"
   ]
  },
  {
   "cell_type": "code",
   "execution_count": null,
   "id": "d8adae13",
   "metadata": {},
   "outputs": [],
   "source": [
    "missing_percentage = get_numerical_summary(knn_data)"
   ]
  },
  {
   "cell_type": "code",
   "execution_count": null,
   "id": "3447216f",
   "metadata": {},
   "outputs": [],
   "source": [
    "knn_data_cleaned = drop_feature(knn_data.copy(),22)\n",
    "_ = get_numerical_summary(knn_data_cleaned)"
   ]
  },
  {
   "cell_type": "code",
   "execution_count": null,
   "id": "6e4caf0d",
   "metadata": {},
   "outputs": [],
   "source": [
    "knn_data_cleaned.head()"
   ]
  },
  {
   "cell_type": "markdown",
   "id": "1901da9a",
   "metadata": {},
   "source": [
    "# Problem 22"
   ]
  },
  {
   "cell_type": "code",
   "execution_count": null,
   "id": "59207a4c",
   "metadata": {},
   "outputs": [],
   "source": [
    "print(f\"Samples before removal {knn_data_cleaned.shape[0]}\")\n",
    "\n",
    "knn_data_cleaned = drop_row(knn_data_cleaned,1)\n",
    "print(f\"Samples after removal {knn_data_cleaned.shape[0]}\")"
   ]
  },
  {
   "cell_type": "code",
   "execution_count": null,
   "id": "a982e814",
   "metadata": {},
   "outputs": [],
   "source": [
    "knn_data_cleaned.info()"
   ]
  },
  {
   "cell_type": "code",
   "execution_count": null,
   "id": "6f1fdd9e",
   "metadata": {},
   "outputs": [],
   "source": [
    "from sklearn.preprocessing import LabelEncoder"
   ]
  },
  {
   "cell_type": "code",
   "execution_count": null,
   "id": "ed78e9fa",
   "metadata": {},
   "outputs": [],
   "source": [
    "lb = LabelEncoder()\n",
    "cat_cols = [col for col in knn_data_cleaned.columns if knn_data_cleaned[col].dtype == 'object']\n",
    "\n",
    "for col in cat_cols:\n",
    "    knn_data_cleaned[col] = lb.fit_transform(knn_data_cleaned[col])"
   ]
  },
  {
   "cell_type": "code",
   "execution_count": null,
   "id": "43ab83d8",
   "metadata": {},
   "outputs": [],
   "source": [
    "knn_data_cleaned.head()"
   ]
  },
  {
   "cell_type": "code",
   "execution_count": null,
   "id": "871785e3",
   "metadata": {},
   "outputs": [],
   "source": [
    "knn_data_cleaned.info()"
   ]
  },
  {
   "cell_type": "code",
   "execution_count": null,
   "id": "463c3e39",
   "metadata": {},
   "outputs": [],
   "source": [
    "from sklearn.model_selection import train_test_split\n",
    "from sklearn.linear_model import LogisticRegression\n",
    "from sklearn import metrics"
   ]
  },
  {
   "cell_type": "code",
   "execution_count": null,
   "id": "5a8bacad",
   "metadata": {},
   "outputs": [],
   "source": [
    "x = knn_data_cleaned.iloc[:,2:31]\n",
    "y = knn_data_cleaned.iloc[:,1]"
   ]
  },
  {
   "cell_type": "code",
   "execution_count": null,
   "id": "e51927aa",
   "metadata": {},
   "outputs": [],
   "source": [
    "report = automation_lr(x,y)\n",
    "report"
   ]
  },
  {
   "cell_type": "code",
   "execution_count": null,
   "id": "2a160e5e",
   "metadata": {},
   "outputs": [],
   "source": [
    "lr_model = LogisticRegression(max_iter=10000)\n",
    "x_train, x_test, y_train, y_test = train_test_split(x, y,train_size = 0.8, shuffle= True)\n",
    "\n",
    "# fit the model\n",
    "lr_model.fit(x_train,y_train)\n",
    "\n",
    "# test and train predicitons\n",
    "train_pred = lr_model.predict(x_train)\n",
    "test_pred = lr_model.predict(x_test)\n",
    "\n",
    "# test and train accuracy\n",
    "train_acc = metrics.accuracy_score(train_pred,y_train)\n",
    "test_acc = metrics.accuracy_score(test_pred,y_test)\n",
    "\n",
    "print(f\"Train Accuracy Score = {train_acc}\")\n",
    "print(f\"Test Accuracy Score = {test_acc}\")"
   ]
  },
  {
   "cell_type": "code",
   "execution_count": null,
   "id": "72afc916",
   "metadata": {},
   "outputs": [],
   "source": [
    "y = knn_data_cleaned.head(10).iloc[:,1]\n",
    "x = knn_data_cleaned.head(10).iloc[:,2:31]"
   ]
  },
  {
   "cell_type": "code",
   "execution_count": null,
   "id": "1e1f6460",
   "metadata": {},
   "outputs": [],
   "source": [
    "# test and train predicitons\n",
    "pred = lr_model.predict(x)\n",
    "\n",
    "# test and train accuracy\n",
    "test_acc = metrics.accuracy_score(pred,y)\n",
    "\n",
    "print(f\"Test Accuracy Score = {test_acc}\")"
   ]
  },
  {
   "cell_type": "markdown",
   "id": "b44db1d1",
   "metadata": {},
   "source": [
    "### Like i mentioned in question 19 i chose 80% because it performs better\n",
    "### and in this situation is better to risk getting more type1 errors"
   ]
  },
  {
   "cell_type": "code",
   "execution_count": null,
   "id": "f18f96ba",
   "metadata": {},
   "outputs": [],
   "source": []
  }
 ],
 "metadata": {
  "kernelspec": {
   "display_name": "Python 3 (ipykernel)",
   "language": "python",
   "name": "python3"
  },
  "language_info": {
   "codemirror_mode": {
    "name": "ipython",
    "version": 3
   },
   "file_extension": ".py",
   "mimetype": "text/x-python",
   "name": "python",
   "nbconvert_exporter": "python",
   "pygments_lexer": "ipython3",
   "version": "3.9.12"
  }
 },
 "nbformat": 4,
 "nbformat_minor": 5
}
