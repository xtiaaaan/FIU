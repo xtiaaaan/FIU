{
 "cells": [
  {
   "cell_type": "markdown",
   "metadata": {},
   "source": [
    "CAP 4630 HW 1 - Search"
   ]
  },
  {
   "cell_type": "markdown",
   "metadata": {},
   "source": [
    "Problem 1:"
   ]
  },
  {
   "cell_type": "code",
   "execution_count": 104,
   "metadata": {},
   "outputs": [
    {
     "name": "stdout",
     "output_type": "stream",
     "text": [
      "8\n"
     ]
    }
   ],
   "source": [
    "class QueueItem:\n",
    "    def __init__(self, row, col, dist):\n",
    "        self.row = row\n",
    "        self.col = col\n",
    "        self.dist = dist\n",
    "\n",
    "# Check if move is valid\n",
    "# Move is only valid if:\n",
    "# Move is within the matrix\n",
    "# Matrix value is not 0\n",
    "# Matrix has not been visited\n",
    "def isValid(x, y, matrix, visited):\n",
    "    if ((x >= 0 and y >= 0) and\n",
    "        (x < len(matrix) and y < len(matrix[0])) and\n",
    "            (matrix[x][y] != 0) and (visited[x][y] == False)):\n",
    "        return True\n",
    "    return False\n",
    "\n",
    "def minDist(matrix):\n",
    "    source = QueueItem(0, 0, 0)\n",
    "\n",
    "    # Locating starting position\n",
    "    for row in range(len(matrix)):\n",
    "        for col in range(len(matrix[row])):\n",
    "            if row == starting_row and col == starting_col:\n",
    "                source.row = row\n",
    "                source.col = col \n",
    "                break\n",
    "\n",
    "    # Maintain location visit status\n",
    "    visited = [[False for _ in range(len(matrix[0]))]\n",
    "        for _ in range(len(matrix))]\n",
    "    \n",
    "    queue = []\n",
    "    queue.append(source)\n",
    "    visited[source.row][source.col] = True\n",
    "\n",
    "    while len(queue) != 0:\n",
    "        source = queue.pop(0)\n",
    "\n",
    "        # Target found\n",
    "        if(source.row == target_row and source.col == target_col):\n",
    "            return source.dist\n",
    "        \n",
    "        # Move up\n",
    "        if isValid(source.row - 1, source.col, matrix, visited):\n",
    "            queue.append(QueueItem(source.row - 1, source.col, source.dist + 1))\n",
    "            visited[source.row - 1][source.col] = True\n",
    "        \n",
    "        # Move down\n",
    "        if isValid(source.row + 1, source.col, matrix, visited):\n",
    "            queue.append(QueueItem(source.row + 1, source.col, source.dist + 1))\n",
    "            visited[source.row + 1][source.col] = True\n",
    " \n",
    "        # Move left\n",
    "        if isValid(source.row, source.col - 1, matrix, visited):\n",
    "            queue.append(QueueItem(source.row, source.col - 1, source.dist + 1))\n",
    "            visited[source.row][source.col - 1] = True\n",
    " \n",
    "        # Move right\n",
    "        if isValid(source.row, source.col + 1, matrix, visited):\n",
    "            queue.append(QueueItem(source.row, source.col + 1, source.dist + 1))\n",
    "            visited[source.row][source.col + 1] = True\n",
    "    \n",
    "    return -1\n",
    "\n",
    "\n",
    "matrix = [[1, 1, 1, 1], [0, 0, 0, 1], [1, 1, 1, 1]]\n",
    "# matrix = [[1, 1, 1, 1], [0, 0, 0, 1], [1, 0, 1, 1]]\n",
    "starting_row = 0\n",
    "starting_col = 0\n",
    "target_row = 2\n",
    "target_col = 0\n",
    "\n",
    "\n",
    "print(minDist(matrix))"
   ]
  },
  {
   "cell_type": "markdown",
   "metadata": {},
   "source": [
    "Problem 2:"
   ]
  },
  {
   "cell_type": "code",
   "execution_count": 105,
   "metadata": {},
   "outputs": [
    {
     "name": "stdout",
     "output_type": "stream",
     "text": [
      "13\n"
     ]
    }
   ],
   "source": [
    "import sys\n",
    "\n",
    "class Node:\n",
    "    def __init__(self, cost):\n",
    "        self.cost = cost\n",
    "        self.children = []\n",
    "        self.parent = None\n",
    "\n",
    "def getMinCost(root, cost):\n",
    "    if(len(root.children) == 0 or root.children is None):\n",
    "        global mincost\n",
    "        mincost = min(mincost, cost)\n",
    "        return\n",
    "    else:\n",
    "        for node in root.children:\n",
    "            getMinCost(node, cost + root.cost + node.cost)\n",
    "\n",
    "# Build tree\n",
    "root = Node(0)\n",
    "r1 = Node(5)\n",
    "r1.parent = root\n",
    "r2 = Node(3)\n",
    "r2.parent = root\n",
    "r3 = Node(6)\n",
    "r3.parent = root\n",
    "r4 = Node(4)\n",
    "r4.parent = r1\n",
    "r5 = Node(2)\n",
    "r5.parent = r2\n",
    "r6 = Node(0)\n",
    "r6.parent = r2\n",
    "r7 = Node(1)\n",
    "r7.parent = r3\n",
    "r8 = Node(5)\n",
    "r8.parent = r3\n",
    "r9 = Node(1)\n",
    "r9.parent = r5\n",
    "r10 = Node(10)\n",
    "r10.parent = r6\n",
    "r11 = Node(1)\n",
    "r11.parent = r9\n",
    "\n",
    "root.children = [r1, r2, r3]\n",
    "r9.children = [r11]\n",
    "r6.children = [r10]\n",
    "r5.children = [r9]\n",
    "r3.children=[r7, r8]\n",
    "r2.children=[r5, r6]\n",
    "r1.children=[r4]\n",
    "\n",
    "mincost = sys.maxsize\n",
    "getMinCost(root,0)\n",
    "print(mincost)"
   ]
  },
  {
   "cell_type": "markdown",
   "metadata": {},
   "source": [
    "Problem 3:"
   ]
  },
  {
   "cell_type": "code",
   "execution_count": 106,
   "metadata": {},
   "outputs": [
    {
     "name": "stdout",
     "output_type": "stream",
     "text": [
      "4 5 3 2 1 "
     ]
    }
   ],
   "source": [
    "class Node:\n",
    "    def __init__(self, data):\n",
    "        self.data = data\n",
    "        self.left = None\n",
    "        self.right = None\n",
    "\n",
    "# Print leaf nodes from left to right\n",
    "def printLeafNode(root: Node) -> None:\n",
    "    if(not root):\n",
    "        return\n",
    "    # If node is a leaf node, print data\n",
    "    if(not root.left and not root.right):\n",
    "        print(root.data, end = \" \")\n",
    "        return\n",
    "    \n",
    "    if root.left:\n",
    "        printLeafNode(root.left)\n",
    "    \n",
    "    if root.right:\n",
    "        printLeafNode(root.right)\n",
    "\n",
    "# Delete leaf nodes from tree\n",
    "def leafDelete(root):\n",
    "    if root == None:\n",
    "        return None\n",
    "    \n",
    "    if root.left == None and root.right == None:\n",
    "        return None\n",
    "\n",
    "    root.left = leafDelete(root.left)\n",
    "    root.right = leafDelete(root.right)\n",
    "\n",
    "# Building the Binary Tree\n",
    "root = Node(1)\n",
    "root.left = Node(2)\n",
    "root.right = Node(3)\n",
    "root.left.left = Node(4)\n",
    "root.left.right = Node(5)\n",
    "\n",
    "printLeafNode(root)\n",
    "leafDelete(root.left)\n",
    "printLeafNode(root.left)\n",
    "leafDelete(root)\n",
    "printLeafNode(root)\n"
   ]
  },
  {
   "cell_type": "markdown",
   "metadata": {},
   "source": [
    "Problem 4:\n",
    "\n",
    "In depth-first algorithm, nodes cannot be revisited once they've been flagged as such. Tarry's rule specifies that you should not return to a node that creates a junction, unless you have no other option.\n",
    "\n",
    "Tarry's rule means that if we have a node(v), that can traverse to nodes(w) and node(x), if we've traversed from node(v) to node(w), but are needed to return to node(v), we can do as such but cannot traverse node(w) again and can only traverse node(x)."
   ]
  }
 ],
 "metadata": {
  "interpreter": {
   "hash": "31f2aee4e71d21fbe5cf8b01ff0e069b9275f58929596ceb00d14d90e3e16cd6"
  },
  "kernelspec": {
   "display_name": "Python 3.8.9 64-bit",
   "language": "python",
   "name": "python3"
  },
  "language_info": {
   "codemirror_mode": {
    "name": "ipython",
    "version": 3
   },
   "file_extension": ".py",
   "mimetype": "text/x-python",
   "name": "python",
   "nbconvert_exporter": "python",
   "pygments_lexer": "ipython3",
   "version": "3.9.7"
  },
  "orig_nbformat": 4
 },
 "nbformat": 4,
 "nbformat_minor": 2
}
