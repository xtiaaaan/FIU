{
 "cells": [
  {
   "cell_type": "markdown",
   "metadata": {},
   "source": []
  },
  {
   "cell_type": "markdown",
   "metadata": {},
   "source": [
    "Question 0. Computing Probabilities\n",
    "\n",
    "0.a) Using Bayes Theorem\n",
    "\n",
    "P(Not normal | Not raining) = P(Not normal & Not raining) / P(Not raining)\n",
    "= (Tropical Storm(Sunny) + Tropical Storm(Cloudy) + Hurricane(Sunny) + Hurricane(Cloudy))/(1 – Rainy)\n",
    "= (0.0598 + 0.009 + 0.0002 + 0.0001) / (1 – 0.1)\n",
    "\n",
    "P(Not normal | Not raining) = 0.0691/0.9 = 0.0768\n",
    "\n",
    "There is a 0.0768 probability that the weather is not normal.\n",
    "\n",
    "0.b) New Overall Hurrican Probability - 0.0001\n",
    "\n",
    "\n",
    " Since the probability of event in the initial table was 0.0013, the probabilities of hurricanes would be reduced by 0.0001 / 0.0013 = 1/13.\n",
    "Differences:\n",
    "\t0.0002 * (1 – (1/13)) = 0.000185\n",
    "\t0.001 * (1 – (1/13)) = 0.0000925\n",
    "The new table is computed as: 0.001 * (1 – (1/3)) = 0.000923\n",
    "\n",
    "Weather/Event   |   Normal  |  Tropical Storm   |  Hurricane    |   P(Weather)\t|\n",
    "–––––––––––––––––––––––––––––––––––––––––––––––––––––––––––––––––––––––––––––––––\n",
    "Sunny           |   0.6402\t|\t0.0598154\t\t|\t0.00001538\t|\t\t0.7\t\t|\n",
    "Cloudy\t\t\t|\t0.1910\t|\t0.009004\t\t|\t0.000007692\t|\t\t0.2\t\t|\n",
    "Rainy\t\t\t|\t0.09084\t|\t0.009084\t\t|\t0.00007692\t|\t\t0.1\t\t|\n",
    "P(Event)\t\t|\t0.92204\t|\t0.07786\t\t\t|\t0.0001\t\t|\t\t1\t\t|\n",
    "–––––––––––––––––––––––––––––––––––––––––––––––––––––––––––––––––––––––––––––––––"
   ]
  },
  {
   "cell_type": "markdown",
   "metadata": {},
   "source": [
    "Question 1. Gambler’s Fallacy\n",
    "\n",
    "As stated by the question, the Gambler’s Fallacy represents the belief that having an event take place in the past alters the probability of the event taking place in the future. As also stated by the question, this belief is incorrect. \n",
    "\n",
    "In this situation, having flipped four heads in a row does not alter the probability of landing heads, as would be believed by the gambler’s fallacy.\n",
    " \n",
    "Thus, having the probability of landing a heads be ½, the probability of landing five heads in a row would be computed as: \n",
    "P(landing heads 5 times in a row) = (1/2)^5 = 1/32"
   ]
  },
  {
   "cell_type": "code",
   "execution_count": 340,
   "metadata": {},
   "outputs": [
    {
     "name": "stdout",
     "output_type": "stream",
     "text": [
      "Heads: 59 \n",
      "Tails: 41\n",
      "\n"
     ]
    }
   ],
   "source": [
    "import random\n",
    "\n",
    "def biasedCoin():\n",
    "    p = 0.8\n",
    "\n",
    "    return 'head' if random.random() < p else 'tail'\n",
    "\n",
    "def unbiasedCoin():\n",
    "    flip1, flip2 = biasedCoin(), biasedCoin()\n",
    "    flip1val, flip2val = 0, 0\n",
    "\n",
    "    if flip1 != flip2:\n",
    "        if flip1 == 'head':\n",
    "            return 'head' # 0.16 probability to reach this\n",
    "        else:\n",
    "            return 'tail' # 0.16 probability to reach this\n",
    "\n",
    "    return unbiasedCoin() # Ignore conditions where !(flip1 XOR flip2) \n",
    "\n",
    "\n",
    "head, tail = 0, 0\n",
    "\n",
    "for i in range(100):\n",
    "    if unbiasedCoin() == 'head':\n",
    "        head += 1\n",
    "    else:\n",
    "        tail += 1\n",
    "print(\"Heads: {} \\nTails: {}\\n\".format(head, tail))"
   ]
  },
  {
   "cell_type": "markdown",
   "metadata": {},
   "source": [
    "Question 5. Biased Coin\n",
    "\n",
    "The biasedCoin() function returns 'head' with an 80% (0.8) probability and 'tail' with 20% (0.2) probability.\n",
    "\n",
    "Since we know our initial probabilties, we can then call the biasedCoin() function two times.\n",
    "\n",
    "[head, tail] is 80% (0.8) and 20% (0.2) odds, respectively, therefore, flipping this specific order is 0.8 * 0.2 = 0.16 or 16%.\n",
    "\n",
    "The same is true for the inverse, [tail, head], 0.2 * 0.8 = 0.16.\n",
    "\n",
    "In order for us to have truly equal odds, we need to ignore conditions where both coin flips are the same, [head, head] and [tail, tail], 0.64 and 0.04, respectively. Therefore, for any coin flips with these conditions, we just ingore them and flip again.\n",
    "\n",
    "With our final probability 0.16 for both coin flips, although results results may take a little longer."
   ]
  },
  {
   "cell_type": "code",
   "execution_count": 455,
   "metadata": {},
   "outputs": [
    {
     "name": "stdout",
     "output_type": "stream",
     "text": [
      "Zero: 17\n",
      "One: 19\n",
      "Two: 10\n",
      "Three: 10\n",
      "Four: 5\n",
      "Five: 7\n",
      "Six: 5\n",
      "\n"
     ]
    }
   ],
   "source": [
    "def uniform06Generator():\n",
    "    val1, val2, val3 = unbiasedCoin(), unbiasedCoin(), unbiasedCoin()\n",
    "\n",
    "    if val1 == 'head' and val2 == 'head' and val3 == 'head':\n",
    "        return 'zero'\n",
    "    elif val1 == 'head' and val2 == 'head' and val3 == 'tail':\n",
    "        return 'one'\n",
    "    elif val1 == 'head' and val2 == 'tail' and val3 == 'head':\n",
    "        return 'two'\n",
    "    elif val1 == 'head' and val2 == 'tail' and val3 == 'tail':\n",
    "        return 'three'\n",
    "    elif val1 == 'tail' and val2 == 'head' and val3 == 'head':\n",
    "        return 'four'\n",
    "    elif val1 == 'tail' and val2 == 'head' and val3 == 'tail':\n",
    "        return 'five'\n",
    "    elif val1 == 'tail' and val2 == 'tail' and val3 == 'head':\n",
    "        return 'six'\n",
    "    else:\n",
    "        return uniform06Generator()\n",
    "\n",
    "zero, one, two, three, four, five, six = 0, 0, 0, 0, 0, 0, 0\n",
    "\n",
    "for i in range(100):\n",
    "    if uniform06Generator() == 'zero':\n",
    "        zero += 1\n",
    "    elif uniform06Generator() == 'one':\n",
    "        one += 1\n",
    "    elif uniform06Generator() == 'two':\n",
    "        two += 1\n",
    "    elif uniform06Generator() == 'three':\n",
    "        three += 1\n",
    "    elif uniform06Generator() == 'four':\n",
    "        four += 1\n",
    "    elif uniform06Generator() == 'five':\n",
    "        five += 1\n",
    "    elif uniform06Generator() == 'six':\n",
    "        six += 1\n",
    "\n",
    "print(\"Zero: {}\\nOne: {}\\nTwo: {}\\nThree: {}\\nFour: {}\\nFive: {}\\nSix: {}\\n\".format(zero, one, two, three, four, five, six))"
   ]
  },
  {
   "cell_type": "markdown",
   "metadata": {},
   "source": [
    "Question 6. Uniform Outcomes\n",
    "\n",
    "Since we have equal probability of getting heads or tails with unbiasedCoin(), we can generate numbers 0-6 using bits. Where 'head' is equal to 0 and 'tail' is equal to 1.\n",
    "\n",
    "[head, head, head] or 000 = 0\n",
    "[head, head, tail] or 001 = 1\n",
    "[head, tail, head] or 010 = 2\n",
    "[head, tail, tail] or 011 = 3\n",
    "[tail, head, head] or 100 = 4\n",
    "[tail, head, tail] or 101 = 5\n",
    "[tail, tail, head] or 110 = 6\n",
    "\n",
    "Then, since [tail, tail, tail] or 111 = 7, we can just ignore this and generate a number again."
   ]
  }
 ],
 "metadata": {
  "language_info": {
   "name": "python"
  },
  "orig_nbformat": 4
 },
 "nbformat": 4,
 "nbformat_minor": 2
}
